{
 "cells": [
  {
   "cell_type": "code",
   "execution_count": 67,
   "metadata": {
    "collapsed": true
   },
   "outputs": [],
   "source": [
    "import pandas as pd"
   ]
  },
  {
   "cell_type": "code",
   "execution_count": 68,
   "metadata": {
    "collapsed": false
   },
   "outputs": [
    {
     "data": {
      "text/plain": [
       "['0', '1', '2']"
      ]
     },
     "execution_count": 68,
     "metadata": {},
     "output_type": "execute_result"
    }
   ],
   "source": [
    "'\\t'.join([str(i) for i in range(3)]).split('\\t', 6)"
   ]
  },
  {
   "cell_type": "code",
   "execution_count": 69,
   "metadata": {
    "collapsed": true
   },
   "outputs": [],
   "source": [
    "pos_train_path = '../Data/concat/positives/train.posts'\n",
    "pos_dev_path = '../Data/concat/positives/dev.posts'\n",
    "\n",
    "neg_train_path = '../Data/concat/controls/train.posts'\n",
    "neg_dev_path = '../Data/concat/controls/dev.posts'\n"
   ]
  },
  {
   "cell_type": "code",
   "execution_count": 72,
   "metadata": {
    "collapsed": false
   },
   "outputs": [],
   "source": [
    "dfs = []\n",
    "for path in [pos_train_path, pos_dev_path, neg_train_path, neg_dev_path]:\n",
    "    result = []\n",
    "    with open(path, 'rb') as f:\n",
    "        for cnt, line in enumerate(f):\n",
    "            row = line.strip().split('\\t', 5)\n",
    "            row.append(len(line.split('\\t')))\n",
    "            result.append(row)\n",
    "\n",
    "    columns = ['post_id', 'user_id', 'timestamp', 'subreddit', 'post_title', 'post_body', 'cnt_split']\n",
    "    df = pd.DataFrame(result, columns=columns) \n",
    "    dfs.append(df)"
   ]
  },
  {
   "cell_type": "code",
   "execution_count": 73,
   "metadata": {
    "collapsed": false,
    "scrolled": true
   },
   "outputs": [
    {
     "name": "stdout",
     "output_type": "stream",
     "text": [
      "(1287888, 7)\n",
      "min split 6.0\n",
      "{'': 1062, 1: 1286826}\n",
      "users count =  8901\n",
      "(151926, 7)\n",
      "min split 6.0\n",
      "{'': 176, 1: 151750}\n",
      "users count =  1131\n",
      "(437973, 7)\n",
      "min split 6.0\n",
      "{'': 183, 1: 437790}\n",
      "users count =  8846\n",
      "(55790, 7)\n",
      "min split 6.0\n",
      "{'': 14, 1: 55776}\n",
      "users count =  1173\n"
     ]
    }
   ],
   "source": [
    "for df in dfs:\n",
    "    print df.shape\n",
    "    print 'min split', df.cnt_split.min()\n",
    "    print df.subreddit.apply(lambda x: len(x.split()) if x!='' else x).value_counts().to_dict()\n",
    "    print 'users count = ', df.user_id.value_counts().shape[0]\n",
    "    df.user_id.apply(int)\n",
    "    df.timestamp.apply(int)"
   ]
  },
  {
   "cell_type": "markdown",
   "metadata": {
    "collapsed": true
   },
   "source": [
    "# preprocessing version 2"
   ]
  },
  {
   "cell_type": "code",
   "execution_count": 1,
   "metadata": {
    "collapsed": true
   },
   "outputs": [],
   "source": [
    "import re\n",
    "import src.read_posts; reload(src.read_posts)\n",
    "from datetime import datetime as dt\n",
    "from src.read_posts import *\n",
    "from src.constants import *\n"
   ]
  },
  {
   "cell_type": "code",
   "execution_count": 6,
   "metadata": {
    "collapsed": true
   },
   "outputs": [],
   "source": [
    "def check_df(df):\n",
    "    print df.shape\n",
    "    a = df[~df.user_id.apply(is_int)]\n",
    "    print a\n",
    "#     print 'min split', df.cnt_split.min()\n",
    "    print df.subreddit.apply(lambda x: len(x.split()) if x!='' else x).value_counts().to_dict()\n",
    "    print 'users count = ', df.user_id.value_counts().shape[0]\n",
    "    df.user_id.apply(int)\n",
    "    df.timestamp.apply(int)"
   ]
  },
  {
   "cell_type": "code",
   "execution_count": 3,
   "metadata": {
    "collapsed": true
   },
   "outputs": [],
   "source": [
    "def is_int(x):\n",
    "    try:\n",
    "        int(x)\n",
    "        return True\n",
    "    except Exception:\n",
    "        return False"
   ]
  },
  {
   "cell_type": "code",
   "execution_count": 4,
   "metadata": {
    "collapsed": true
   },
   "outputs": [],
   "source": [
    "def is_ascii(text):\n",
    "    if isinstance(text, unicode):\n",
    "        try:\n",
    "            text.encode('ascii')\n",
    "        except UnicodeEncodeError:\n",
    "            return False\n",
    "    else:\n",
    "        try:\n",
    "            text.decode('ascii')\n",
    "        except UnicodeDecodeError:\n",
    "            return False\n",
    "    return True"
   ]
  },
  {
   "cell_type": "code",
   "execution_count": 7,
   "metadata": {
    "collapsed": false
   },
   "outputs": [
    {
     "name": "stdout",
     "output_type": "stream",
     "text": [
      "Reading Data\n",
      "Time taken: 0:00:02.206000\n"
     ]
    }
   ],
   "source": [
    "st = dt.now()\n",
    "print('Reading Data')\n",
    "train = read_posts(train_control_path)\n",
    "train = exclude_mental_health_posts(train, mental_health_sub)\n",
    "train.post_title.fillna('', inplace=True)\n",
    "train.post_body.fillna('', inplace=True)\n",
    "\n",
    "    \n",
    "et = dt.now()\n",
    "print(\"Time taken: \"+str(et-st))"
   ]
  },
  {
   "cell_type": "code",
   "execution_count": 8,
   "metadata": {
    "collapsed": false
   },
   "outputs": [
    {
     "name": "stdout",
     "output_type": "stream",
     "text": [
      "(437973, 6)\n",
      "Empty DataFrame\n",
      "Columns: [post_id, user_id, timestamp, subreddit, post_title, post_body]\n",
      "Index: []\n",
      "{u'': 183, 1: 437790}\n",
      "users count =  8846\n"
     ]
    }
   ],
   "source": [
    "check_df(train)"
   ]
  },
  {
   "cell_type": "code",
   "execution_count": 9,
   "metadata": {
    "collapsed": false
   },
   "outputs": [
    {
     "data": {
      "text/plain": [
       "(437973, 6)"
      ]
     },
     "execution_count": 9,
     "metadata": {},
     "output_type": "execute_result"
    }
   ],
   "source": [
    "train.shape"
   ]
  },
  {
   "cell_type": "code",
   "execution_count": null,
   "metadata": {
    "collapsed": true
   },
   "outputs": [],
   "source": []
  }
 ],
 "metadata": {
  "anaconda-cloud": {},
  "kernelspec": {
   "display_name": "Python [default]",
   "language": "python",
   "name": "python2"
  },
  "language_info": {
   "codemirror_mode": {
    "name": "ipython",
    "version": 2
   },
   "file_extension": ".py",
   "mimetype": "text/x-python",
   "name": "python",
   "nbconvert_exporter": "python",
   "pygments_lexer": "ipython2",
   "version": "2.7.13"
  }
 },
 "nbformat": 4,
 "nbformat_minor": 2
}
