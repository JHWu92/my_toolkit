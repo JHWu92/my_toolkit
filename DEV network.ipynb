{
 "cells": [
  {
   "cell_type": "code",
   "execution_count": 1,
   "metadata": {
    "collapsed": true
   },
   "outputs": [],
   "source": [
    "import pandas as pd\n",
    "from collections import defaultdict"
   ]
  },
  {
   "cell_type": "code",
   "execution_count": 2,
   "metadata": {},
   "outputs": [],
   "source": [
    "from wKit.network.ftr_by_snap import *"
   ]
  },
  {
   "cell_type": "code",
   "execution_count": 3,
   "metadata": {},
   "outputs": [],
   "source": [
    "edge_node_relation = [ # eid, n_start_id, n_end_id\n",
    "    ('e1', 'n1', 'n2'),\n",
    "    ('e2', 'n1', 'n3'),\n",
    "    ('e3', 'n1', 'n4'),\n",
    "    ('e4', 'n2', 'n3'),\n",
    "    ('e5', 'n2', 'n1'),\n",
    "    ('e6', 'n4', 'n2'),\n",
    "    ('e7', 'n4', 'n3')\n",
    "]\n",
    "\n"
   ]
  },
  {
   "cell_type": "code",
   "execution_count": 4,
   "metadata": {},
   "outputs": [],
   "source": [
    "intize_relation, edge_index, node_name2id, node_id2name = build_relation_index(edge_node_relation)"
   ]
  },
  {
   "cell_type": "code",
   "execution_count": 5,
   "metadata": {},
   "outputs": [
    {
     "name": "stdout",
     "output_type": "stream",
     "text": [
      "network built with node size = 4, directed edges = 7, undirected edges = 6\n"
     ]
    }
   ],
   "source": [
    "UG = build_network(intize_relation, True)"
   ]
  },
  {
   "cell_type": "code",
   "execution_count": 9,
   "metadata": {},
   "outputs": [],
   "source": [
    "features_edge = ftr_undirected_edge(UG, edge_index)"
   ]
  },
  {
   "cell_type": "code",
   "execution_count": 8,
   "metadata": {},
   "outputs": [
    {
     "name": "stdout",
     "output_type": "stream",
     "text": [
      "('begin ftr_undirected_SgAsNd', 'now = 2017-09-15 18:03:54, costs = 0 days 00:00:00 = 0 seconds')\n",
      "('got degree, node, closeness and farness centrality for nodes', 'now = 2017-09-15 18:03:54, costs = 0 days 00:00:00 = 0 seconds')\n",
      "('got eigen centrality', 'now = 2017-09-15 18:03:54, costs = 0 days 00:00:00 = 0 seconds')\n",
      "('got btw centrality', 'now = 2017-09-15 18:03:54, costs = 0 days 00:00:00 = 0 seconds')\n",
      "('got page rank', 'now = 2017-09-15 18:03:54, costs = 0 days 00:00:00 = 0 seconds')\n",
      "('got hit score', 'now = 2017-09-15 18:03:54, costs = 0 days 00:00:00 = 0 seconds')\n",
      "('got articulate point', 'now = 2017-09-15 18:03:54, costs = 0 days 00:00:00 = 0 seconds')\n",
      "('got bridge', 'now = 2017-09-15 18:03:54, costs = 0 days 00:00:00 = 0 seconds')\n"
     ]
    }
   ],
   "source": [
    "features_node = ftr_undirected_node(UG)"
   ]
  },
  {
   "cell_type": "code",
   "execution_count": 12,
   "metadata": {},
   "outputs": [
    {
     "data": {
      "text/html": [
       "<div>\n",
       "<style>\n",
       "    .dataframe thead tr:only-child th {\n",
       "        text-align: right;\n",
       "    }\n",
       "\n",
       "    .dataframe thead th {\n",
       "        text-align: left;\n",
       "    }\n",
       "\n",
       "    .dataframe tbody tr th {\n",
       "        vertical-align: top;\n",
       "    }\n",
       "</style>\n",
       "<table border=\"1\" class=\"dataframe\">\n",
       "  <thead>\n",
       "    <tr style=\"text-align: right;\">\n",
       "      <th></th>\n",
       "      <th>ud_node_PageRank</th>\n",
       "      <th>ud_node_authorities_score</th>\n",
       "      <th>ud_node_betweenness_centrality</th>\n",
       "      <th>ud_node_closeness_centrality</th>\n",
       "      <th>ud_node_degree_centrality</th>\n",
       "      <th>ud_node_eigenvector_centrality</th>\n",
       "      <th>ud_node_farness_centrality</th>\n",
       "      <th>ud_node_hub_score</th>\n",
       "      <th>ud_node_node_eccentricity</th>\n",
       "    </tr>\n",
       "  </thead>\n",
       "  <tbody>\n",
       "    <tr>\n",
       "      <th>0</th>\n",
       "      <td>0.25</td>\n",
       "      <td>0.5</td>\n",
       "      <td>0.0</td>\n",
       "      <td>1.0</td>\n",
       "      <td>1.0</td>\n",
       "      <td>0.5</td>\n",
       "      <td>1.0</td>\n",
       "      <td>0.5</td>\n",
       "      <td>1.0</td>\n",
       "    </tr>\n",
       "    <tr>\n",
       "      <th>1</th>\n",
       "      <td>0.25</td>\n",
       "      <td>0.5</td>\n",
       "      <td>0.0</td>\n",
       "      <td>1.0</td>\n",
       "      <td>1.0</td>\n",
       "      <td>0.5</td>\n",
       "      <td>1.0</td>\n",
       "      <td>0.5</td>\n",
       "      <td>1.0</td>\n",
       "    </tr>\n",
       "    <tr>\n",
       "      <th>2</th>\n",
       "      <td>0.25</td>\n",
       "      <td>0.5</td>\n",
       "      <td>0.0</td>\n",
       "      <td>1.0</td>\n",
       "      <td>1.0</td>\n",
       "      <td>0.5</td>\n",
       "      <td>1.0</td>\n",
       "      <td>0.5</td>\n",
       "      <td>1.0</td>\n",
       "    </tr>\n",
       "    <tr>\n",
       "      <th>3</th>\n",
       "      <td>0.25</td>\n",
       "      <td>0.5</td>\n",
       "      <td>0.0</td>\n",
       "      <td>1.0</td>\n",
       "      <td>1.0</td>\n",
       "      <td>0.5</td>\n",
       "      <td>1.0</td>\n",
       "      <td>0.5</td>\n",
       "      <td>1.0</td>\n",
       "    </tr>\n",
       "  </tbody>\n",
       "</table>\n",
       "</div>"
      ],
      "text/plain": [
       "   ud_node_PageRank  ud_node_authorities_score  \\\n",
       "0              0.25                        0.5   \n",
       "1              0.25                        0.5   \n",
       "2              0.25                        0.5   \n",
       "3              0.25                        0.5   \n",
       "\n",
       "   ud_node_betweenness_centrality  ud_node_closeness_centrality  \\\n",
       "0                             0.0                           1.0   \n",
       "1                             0.0                           1.0   \n",
       "2                             0.0                           1.0   \n",
       "3                             0.0                           1.0   \n",
       "\n",
       "   ud_node_degree_centrality  ud_node_eigenvector_centrality  \\\n",
       "0                        1.0                             0.5   \n",
       "1                        1.0                             0.5   \n",
       "2                        1.0                             0.5   \n",
       "3                        1.0                             0.5   \n",
       "\n",
       "   ud_node_farness_centrality  ud_node_hub_score  ud_node_node_eccentricity  \n",
       "0                         1.0                0.5                        1.0  \n",
       "1                         1.0                0.5                        1.0  \n",
       "2                         1.0                0.5                        1.0  \n",
       "3                         1.0                0.5                        1.0  "
      ]
     },
     "execution_count": 12,
     "metadata": {},
     "output_type": "execute_result"
    }
   ],
   "source": [
    "pd.DataFrame(features_node).T"
   ]
  },
  {
   "cell_type": "code",
   "execution_count": 13,
   "metadata": {},
   "outputs": [
    {
     "data": {
      "text/html": [
       "<div>\n",
       "<style>\n",
       "    .dataframe thead tr:only-child th {\n",
       "        text-align: right;\n",
       "    }\n",
       "\n",
       "    .dataframe thead th {\n",
       "        text-align: left;\n",
       "    }\n",
       "\n",
       "    .dataframe tbody tr th {\n",
       "        vertical-align: top;\n",
       "    }\n",
       "</style>\n",
       "<table border=\"1\" class=\"dataframe\">\n",
       "  <thead>\n",
       "    <tr style=\"text-align: right;\">\n",
       "      <th></th>\n",
       "      <th>ud_btw_cntr_SgAsEg</th>\n",
       "    </tr>\n",
       "  </thead>\n",
       "  <tbody>\n",
       "    <tr>\n",
       "      <th>e1</th>\n",
       "      <td>2.0</td>\n",
       "    </tr>\n",
       "    <tr>\n",
       "      <th>e2</th>\n",
       "      <td>2.0</td>\n",
       "    </tr>\n",
       "    <tr>\n",
       "      <th>e3</th>\n",
       "      <td>2.0</td>\n",
       "    </tr>\n",
       "    <tr>\n",
       "      <th>e4</th>\n",
       "      <td>2.0</td>\n",
       "    </tr>\n",
       "    <tr>\n",
       "      <th>e5</th>\n",
       "      <td>2.0</td>\n",
       "    </tr>\n",
       "    <tr>\n",
       "      <th>e6</th>\n",
       "      <td>2.0</td>\n",
       "    </tr>\n",
       "    <tr>\n",
       "      <th>e7</th>\n",
       "      <td>2.0</td>\n",
       "    </tr>\n",
       "  </tbody>\n",
       "</table>\n",
       "</div>"
      ],
      "text/plain": [
       "    ud_btw_cntr_SgAsEg\n",
       "e1                 2.0\n",
       "e2                 2.0\n",
       "e3                 2.0\n",
       "e4                 2.0\n",
       "e5                 2.0\n",
       "e6                 2.0\n",
       "e7                 2.0"
      ]
     },
     "execution_count": 13,
     "metadata": {},
     "output_type": "execute_result"
    }
   ],
   "source": [
    "pd.DataFrame(features_edge).T"
   ]
  },
  {
   "cell_type": "code",
   "execution_count": null,
   "metadata": {
    "collapsed": true
   },
   "outputs": [],
   "source": []
  }
 ],
 "metadata": {
  "kernelspec": {
   "display_name": "Python 2",
   "language": "python",
   "name": "python2"
  },
  "language_info": {
   "codemirror_mode": {
    "name": "ipython",
    "version": 2
   },
   "file_extension": ".py",
   "mimetype": "text/x-python",
   "name": "python",
   "nbconvert_exporter": "python",
   "pygments_lexer": "ipython2",
   "version": "2.7.13"
  }
 },
 "nbformat": 4,
 "nbformat_minor": 2
}
