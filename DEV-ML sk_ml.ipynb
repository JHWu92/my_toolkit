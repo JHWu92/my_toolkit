{
 "cells": [
  {
   "cell_type": "code",
   "execution_count": 11,
   "metadata": {
    "collapsed": true
   },
   "outputs": [],
   "source": [
    "import pandas as pd\n",
    "import numpy as np\n",
    "from datetime import datetime as dtm\n",
    "from sklearn.datasets import load_iris\n",
    "from sklearn.model_selection import train_test_split\n",
    "%matplotlib inline\n",
    "import src.sk_ml; reload(src.sk_ml)\n",
    "from src.sk_ml import *"
   ]
  },
  {
   "cell_type": "code",
   "execution_count": 2,
   "metadata": {
    "collapsed": false
   },
   "outputs": [],
   "source": [
    "\n",
    "iris = load_iris()\n",
    "data1 = pd.DataFrame(data= np.c_[iris['data'], iris['target']],\n",
    "                     columns= iris['feature_names'] + ['target'])\n",
    "\n",
    "x = data1.iloc[:,:3]\n",
    "y = data1.target\n",
    "\n",
    "train_x, test_x, train_y, test_y = train_test_split(x, y, test_size=0.2, random_state=0)"
   ]
  },
  {
   "cell_type": "code",
   "execution_count": 3,
   "metadata": {
    "collapsed": false
   },
   "outputs": [],
   "source": [
    "models = sk_models(stoplist=())\n",
    "params = grid_cv_default_params()"
   ]
  },
  {
   "cell_type": "code",
   "execution_count": 6,
   "metadata": {
    "collapsed": false
   },
   "outputs": [
    {
     "name": "stdout",
     "output_type": "stream",
     "text": [
      "2017-05-28 21:30:24.541000 CVing: kind = reg, model = DTreg\n"
     ]
    },
    {
     "name": "stderr",
     "output_type": "stream",
     "text": [
      "\n",
      "KeyboardInterrupt\n",
      "\n"
     ]
    }
   ],
   "source": [
    "df_cv_res = grid_cv_models(train_x, train_y, models, params, path='data/cross_validation/test', redo=True)"
   ]
  },
  {
   "cell_type": "code",
   "execution_count": 4,
   "metadata": {
    "collapsed": true
   },
   "outputs": [
    {
     "name": "stdout",
     "output_type": "stream",
     "text": [
      "fitting model reg DTreg\n",
      "fitting model reg linearSVR\n",
      "fitting model reg ADAreg\n",
      "fitting model reg MLPreg\n",
      "fitting model reg BAGreg\n",
      "fitting model reg SVR\n",
      "fitting model reg lasso\n",
      "fitting model reg ridge\n",
      "fitting model reg RFreg\n",
      "fitting model reg ols\n",
      "fitting model reg GDBreg\n",
      "fitting model cls logistics\n",
      "fitting model cls DTcls\n",
      "fitting model cls SVM\n",
      "fitting model cls linearSVM\n",
      "fitting model cls MLPcls\n",
      "fitting model cls ADAcls\n",
      "fitting model cls GDBcls\n",
      "fitting model cls GNBcls\n",
      "fitting model cls RFcls\n",
      "fitting model cls BAGcls\n",
      "loaded existing cv-ed best parameters\n"
     ]
    }
   ],
   "source": [
    "loaded_df_cv_res = grid_cv_models(train_x, train_y, models, params, path='data/cross_validation/test', save_res=True, verbose=True)"
   ]
  },
  {
   "cell_type": "markdown",
   "metadata": {},
   "source": [
    "# feature importance"
   ]
  },
  {
   "cell_type": "code",
   "execution_count": 5,
   "metadata": {
    "collapsed": false
   },
   "outputs": [],
   "source": [
    "rf = loaded_df_cv_res.loc[('reg','RFreg')].best_model\n",
    "dt = loaded_df_cv_res.loc[('reg','DTreg')].best_model"
   ]
  },
  {
   "cell_type": "code",
   "execution_count": 13,
   "metadata": {
    "collapsed": false
   },
   "outputs": [
    {
     "data": {
      "image/png": "[encoded data removed]",
      "text/plain": [
       "<matplotlib.figure.Figure at 0xd31c2b0>"
      ]
     },
     "metadata": {},
     "output_type": "display_data"
    },
    {
     "data": {
      "text/html": [
       "<div>\n",
       "<style>\n",
       "    .dataframe thead tr:only-child th {\n",
       "        text-align: right;\n",
       "    }\n",
       "\n",
       "    .dataframe thead th {\n",
       "        text-align: left;\n",
       "    }\n",
       "\n",
       "    .dataframe tbody tr th {\n",
       "        vertical-align: top;\n",
       "    }\n",
       "</style>\n",
       "<table border=\"1\" class=\"dataframe\">\n",
       "  <thead>\n",
       "    <tr style=\"text-align: right;\">\n",
       "      <th></th>\n",
       "      <th>importance</th>\n",
       "      <th>label</th>\n",
       "      <th>std</th>\n",
       "    </tr>\n",
       "  </thead>\n",
       "  <tbody>\n",
       "    <tr>\n",
       "      <th>2</th>\n",
       "      <td>0.994048</td>\n",
       "      <td>2</td>\n",
       "      <td>0.0</td>\n",
       "    </tr>\n",
       "    <tr>\n",
       "      <th>0</th>\n",
       "      <td>0.005952</td>\n",
       "      <td>0</td>\n",
       "      <td>0.0</td>\n",
       "    </tr>\n",
       "    <tr>\n",
       "      <th>1</th>\n",
       "      <td>0.000000</td>\n",
       "      <td>1</td>\n",
       "      <td>0.0</td>\n",
       "    </tr>\n",
       "  </tbody>\n",
       "</table>\n",
       "</div>"
      ],
      "text/plain": [
       "   importance  label  std\n",
       "2    0.994048      2  0.0\n",
       "0    0.005952      0  0.0\n",
       "1    0.000000      1  0.0"
      ]
     },
     "execution_count": 13,
     "metadata": {},
     "output_type": "execute_result"
    }
   ],
   "source": [
    "show_important_features(dt, 'dt')"
   ]
  },
  {
   "cell_type": "code",
   "execution_count": 9,
   "metadata": {
    "collapsed": false
   },
   "outputs": [
    {
     "data": {
      "image/png": "[encoded data removed]",
      "text/plain": [
       "<matplotlib.figure.Figure at 0xccf0278>"
      ]
     },
     "metadata": {},
     "output_type": "display_data"
    },
    {
     "data": {
      "text/html": [
       "<div>\n",
       "<style>\n",
       "    .dataframe thead tr:only-child th {\n",
       "        text-align: right;\n",
       "    }\n",
       "\n",
       "    .dataframe thead th {\n",
       "        text-align: left;\n",
       "    }\n",
       "\n",
       "    .dataframe tbody tr th {\n",
       "        vertical-align: top;\n",
       "    }\n",
       "</style>\n",
       "<table border=\"1\" class=\"dataframe\">\n",
       "  <thead>\n",
       "    <tr style=\"text-align: right;\">\n",
       "      <th></th>\n",
       "      <th>importance</th>\n",
       "      <th>label</th>\n",
       "      <th>std</th>\n",
       "    </tr>\n",
       "  </thead>\n",
       "  <tbody>\n",
       "    <tr>\n",
       "      <th>2</th>\n",
       "      <td>0.960790</td>\n",
       "      <td>2</td>\n",
       "      <td>0.014747</td>\n",
       "    </tr>\n",
       "    <tr>\n",
       "      <th>0</th>\n",
       "      <td>0.025641</td>\n",
       "      <td>0</td>\n",
       "      <td>0.015131</td>\n",
       "    </tr>\n",
       "  </tbody>\n",
       "</table>\n",
       "</div>"
      ],
      "text/plain": [
       "   importance  label       std\n",
       "2    0.960790      2  0.014747\n",
       "0    0.025641      0  0.015131"
      ]
     },
     "execution_count": 9,
     "metadata": {},
     "output_type": "execute_result"
    }
   ],
   "source": [
    "show_important_features(rf,top=2)"
   ]
  },
  {
   "cell_type": "markdown",
   "metadata": {},
   "source": [
    "# prediction of some models such as MLPreg and LinearSVR is random"
   ]
  },
  {
   "cell_type": "code",
   "execution_count": 7,
   "metadata": {
    "collapsed": false
   },
   "outputs": [
    {
     "name": "stderr",
     "output_type": "stream",
     "text": [
      "D:\\Program Files\\Anaconda2\\lib\\site-packages\\sklearn\\metrics\\classification.py:1113: UndefinedMetricWarning: F-score is ill-defined and being set to 0.0 in labels with no predicted samples.\n",
      "  'precision', 'predicted', average, warn_for)\n"
     ]
    }
   ],
   "source": [
    "df_evl1 = evaluate_grid_cv(df_cv_res, train_x, train_y, test_x, test_y, evaluator_scalable_cls, path='data/cross_validation/', )\n",
    "df_evl2 = evaluate_grid_cv(df_cv_res, train_x, train_y, test_x, test_y, evaluator_scalable_cls)"
   ]
  },
  {
   "cell_type": "markdown",
   "metadata": {},
   "source": [
    "# loaded parameters of sklearn model works"
   ]
  },
  {
   "cell_type": "code",
   "execution_count": 7,
   "metadata": {
    "collapsed": false,
    "scrolled": true
   },
   "outputs": [
    {
     "name": "stderr",
     "output_type": "stream",
     "text": [
      "D:\\Program Files\\Anaconda2\\lib\\site-packages\\sklearn\\metrics\\classification.py:1113: UndefinedMetricWarning: F-score is ill-defined and being set to 0.0 in labels with no predicted samples.\n",
      "  'precision', 'predicted', average, warn_for)\n"
     ]
    }
   ],
   "source": [
    "df_evl_loaded = evaluate_grid_cv(loaded_df_cv_res, train_x, train_y, test_x, test_y, evaluator_scalable_cls)"
   ]
  },
  {
   "cell_type": "code",
   "execution_count": 8,
   "metadata": {
    "collapsed": true
   },
   "outputs": [
    {
     "data": {
      "text/html": [
       "<div>\n",
       "<style>\n",
       "    .dataframe thead tr:only-child th {\n",
       "        text-align: right;\n",
       "    }\n",
       "\n",
       "    .dataframe thead th {\n",
       "        text-align: left;\n",
       "    }\n",
       "\n",
       "    .dataframe tbody tr th {\n",
       "        vertical-align: top;\n",
       "    }\n",
       "</style>\n",
       "<table border=\"1\" class=\"dataframe\">\n",
       "  <thead>\n",
       "    <tr style=\"text-align: right;\">\n",
       "      <th></th>\n",
       "      <th></th>\n",
       "      <th>test_acc</th>\n",
       "      <th>test_f1</th>\n",
       "      <th>test_mse</th>\n",
       "      <th>train_acc</th>\n",
       "      <th>train_f1</th>\n",
       "      <th>train_mse</th>\n",
       "    </tr>\n",
       "  </thead>\n",
       "  <tbody>\n",
       "    <tr>\n",
       "      <th>reg</th>\n",
       "      <th>BAGreg</th>\n",
       "      <td>1.000000</td>\n",
       "      <td>1.000000</td>\n",
       "      <td>0.014087</td>\n",
       "      <td>1.000000</td>\n",
       "      <td>1.000000</td>\n",
       "      <td>0.008998</td>\n",
       "    </tr>\n",
       "    <tr>\n",
       "      <th>cls</th>\n",
       "      <th>GDBcls</th>\n",
       "      <td>1.000000</td>\n",
       "      <td>1.000000</td>\n",
       "      <td>0.000000</td>\n",
       "      <td>0.975000</td>\n",
       "      <td>0.974884</td>\n",
       "      <td>0.025000</td>\n",
       "    </tr>\n",
       "    <tr>\n",
       "      <th rowspan=\"2\" valign=\"top\">reg</th>\n",
       "      <th>SVR</th>\n",
       "      <td>1.000000</td>\n",
       "      <td>1.000000</td>\n",
       "      <td>0.045988</td>\n",
       "      <td>0.975000</td>\n",
       "      <td>0.974884</td>\n",
       "      <td>0.033624</td>\n",
       "    </tr>\n",
       "    <tr>\n",
       "      <th>RFreg</th>\n",
       "      <td>1.000000</td>\n",
       "      <td>1.000000</td>\n",
       "      <td>0.010920</td>\n",
       "      <td>1.000000</td>\n",
       "      <td>1.000000</td>\n",
       "      <td>0.008517</td>\n",
       "    </tr>\n",
       "    <tr>\n",
       "      <th rowspan=\"2\" valign=\"top\">cls</th>\n",
       "      <th>ADAcls</th>\n",
       "      <td>0.966667</td>\n",
       "      <td>0.967282</td>\n",
       "      <td>0.033333</td>\n",
       "      <td>0.950000</td>\n",
       "      <td>0.949658</td>\n",
       "      <td>0.050000</td>\n",
       "    </tr>\n",
       "    <tr>\n",
       "      <th>RFcls</th>\n",
       "      <td>0.966667</td>\n",
       "      <td>0.967282</td>\n",
       "      <td>0.033333</td>\n",
       "      <td>1.000000</td>\n",
       "      <td>1.000000</td>\n",
       "      <td>0.000000</td>\n",
       "    </tr>\n",
       "    <tr>\n",
       "      <th rowspan=\"5\" valign=\"top\">reg</th>\n",
       "      <th>GDBreg</th>\n",
       "      <td>0.966667</td>\n",
       "      <td>0.967282</td>\n",
       "      <td>0.026397</td>\n",
       "      <td>1.000000</td>\n",
       "      <td>1.000000</td>\n",
       "      <td>0.001134</td>\n",
       "    </tr>\n",
       "    <tr>\n",
       "      <th>DTreg</th>\n",
       "      <td>0.966667</td>\n",
       "      <td>0.967282</td>\n",
       "      <td>0.022759</td>\n",
       "      <td>0.950000</td>\n",
       "      <td>0.949390</td>\n",
       "      <td>0.032281</td>\n",
       "    </tr>\n",
       "    <tr>\n",
       "      <th>ols</th>\n",
       "      <td>0.966667</td>\n",
       "      <td>0.965769</td>\n",
       "      <td>0.070981</td>\n",
       "      <td>0.975000</td>\n",
       "      <td>0.974884</td>\n",
       "      <td>0.057479</td>\n",
       "    </tr>\n",
       "    <tr>\n",
       "      <th>linearSVR</th>\n",
       "      <td>0.966667</td>\n",
       "      <td>0.965769</td>\n",
       "      <td>0.071488</td>\n",
       "      <td>0.975000</td>\n",
       "      <td>0.974884</td>\n",
       "      <td>0.057630</td>\n",
       "    </tr>\n",
       "    <tr>\n",
       "      <th>ridge</th>\n",
       "      <td>0.966667</td>\n",
       "      <td>0.965769</td>\n",
       "      <td>0.071311</td>\n",
       "      <td>0.966667</td>\n",
       "      <td>0.966439</td>\n",
       "      <td>0.057639</td>\n",
       "    </tr>\n",
       "    <tr>\n",
       "      <th rowspan=\"5\" valign=\"top\">cls</th>\n",
       "      <th>logistics</th>\n",
       "      <td>0.966667</td>\n",
       "      <td>0.965769</td>\n",
       "      <td>0.033333</td>\n",
       "      <td>0.966667</td>\n",
       "      <td>0.966574</td>\n",
       "      <td>0.033333</td>\n",
       "    </tr>\n",
       "    <tr>\n",
       "      <th>SVM</th>\n",
       "      <td>0.966667</td>\n",
       "      <td>0.965769</td>\n",
       "      <td>0.033333</td>\n",
       "      <td>0.958333</td>\n",
       "      <td>0.958282</td>\n",
       "      <td>0.041667</td>\n",
       "    </tr>\n",
       "    <tr>\n",
       "      <th>MLPcls</th>\n",
       "      <td>0.966667</td>\n",
       "      <td>0.965769</td>\n",
       "      <td>0.033333</td>\n",
       "      <td>0.966667</td>\n",
       "      <td>0.966667</td>\n",
       "      <td>0.033333</td>\n",
       "    </tr>\n",
       "    <tr>\n",
       "      <th>BAGcls</th>\n",
       "      <td>0.933333</td>\n",
       "      <td>0.933333</td>\n",
       "      <td>0.066667</td>\n",
       "      <td>1.000000</td>\n",
       "      <td>1.000000</td>\n",
       "      <td>0.000000</td>\n",
       "    </tr>\n",
       "    <tr>\n",
       "      <th>DTcls</th>\n",
       "      <td>0.933333</td>\n",
       "      <td>0.933333</td>\n",
       "      <td>0.066667</td>\n",
       "      <td>1.000000</td>\n",
       "      <td>1.000000</td>\n",
       "      <td>0.000000</td>\n",
       "    </tr>\n",
       "    <tr>\n",
       "      <th>reg</th>\n",
       "      <th>ADAreg</th>\n",
       "      <td>0.933333</td>\n",
       "      <td>0.933333</td>\n",
       "      <td>0.027548</td>\n",
       "      <td>0.950000</td>\n",
       "      <td>0.949658</td>\n",
       "      <td>0.031083</td>\n",
       "    </tr>\n",
       "    <tr>\n",
       "      <th rowspan=\"2\" valign=\"top\">cls</th>\n",
       "      <th>GNBcls</th>\n",
       "      <td>0.866667</td>\n",
       "      <td>0.866667</td>\n",
       "      <td>0.133333</td>\n",
       "      <td>0.900000</td>\n",
       "      <td>0.900153</td>\n",
       "      <td>0.100000</td>\n",
       "    </tr>\n",
       "    <tr>\n",
       "      <th>linearSVM</th>\n",
       "      <td>0.700000</td>\n",
       "      <td>0.684874</td>\n",
       "      <td>0.300000</td>\n",
       "      <td>0.900000</td>\n",
       "      <td>0.896323</td>\n",
       "      <td>0.100000</td>\n",
       "    </tr>\n",
       "    <tr>\n",
       "      <th rowspan=\"2\" valign=\"top\">reg</th>\n",
       "      <th>MLPreg</th>\n",
       "      <td>0.366667</td>\n",
       "      <td>0.336825</td>\n",
       "      <td>0.296361</td>\n",
       "      <td>0.533333</td>\n",
       "      <td>0.480135</td>\n",
       "      <td>0.218478</td>\n",
       "    </tr>\n",
       "    <tr>\n",
       "      <th>lasso</th>\n",
       "      <td>0.433333</td>\n",
       "      <td>0.262016</td>\n",
       "      <td>0.320893</td>\n",
       "      <td>0.308333</td>\n",
       "      <td>0.145329</td>\n",
       "      <td>0.379992</td>\n",
       "    </tr>\n",
       "  </tbody>\n",
       "</table>\n",
       "</div>"
      ],
      "text/plain": [
       "               test_acc   test_f1  test_mse  train_acc  train_f1  train_mse\n",
       "reg BAGreg     1.000000  1.000000  0.014087   1.000000  1.000000   0.008998\n",
       "cls GDBcls     1.000000  1.000000  0.000000   0.975000  0.974884   0.025000\n",
       "reg SVR        1.000000  1.000000  0.045988   0.975000  0.974884   0.033624\n",
       "    RFreg      1.000000  1.000000  0.010920   1.000000  1.000000   0.008517\n",
       "cls ADAcls     0.966667  0.967282  0.033333   0.950000  0.949658   0.050000\n",
       "    RFcls      0.966667  0.967282  0.033333   1.000000  1.000000   0.000000\n",
       "reg GDBreg     0.966667  0.967282  0.026397   1.000000  1.000000   0.001134\n",
       "    DTreg      0.966667  0.967282  0.022759   0.950000  0.949390   0.032281\n",
       "    ols        0.966667  0.965769  0.070981   0.975000  0.974884   0.057479\n",
       "    linearSVR  0.966667  0.965769  0.071488   0.975000  0.974884   0.057630\n",
       "    ridge      0.966667  0.965769  0.071311   0.966667  0.966439   0.057639\n",
       "cls logistics  0.966667  0.965769  0.033333   0.966667  0.966574   0.033333\n",
       "    SVM        0.966667  0.965769  0.033333   0.958333  0.958282   0.041667\n",
       "    MLPcls     0.966667  0.965769  0.033333   0.966667  0.966667   0.033333\n",
       "    BAGcls     0.933333  0.933333  0.066667   1.000000  1.000000   0.000000\n",
       "    DTcls      0.933333  0.933333  0.066667   1.000000  1.000000   0.000000\n",
       "reg ADAreg     0.933333  0.933333  0.027548   0.950000  0.949658   0.031083\n",
       "cls GNBcls     0.866667  0.866667  0.133333   0.900000  0.900153   0.100000\n",
       "    linearSVM  0.700000  0.684874  0.300000   0.900000  0.896323   0.100000\n",
       "reg MLPreg     0.366667  0.336825  0.296361   0.533333  0.480135   0.218478\n",
       "    lasso      0.433333  0.262016  0.320893   0.308333  0.145329   0.379992"
      ]
     },
     "execution_count": 8,
     "metadata": {},
     "output_type": "execute_result"
    }
   ],
   "source": [
    "df_evl_loaded"
   ]
  },
  {
   "cell_type": "code",
   "execution_count": 14,
   "metadata": {
    "collapsed": false
   },
   "outputs": [],
   "source": [
    "a= (df_evl1.sort_index()/df_evl2.sort_index()).mean(axis=1)\n",
    "a = a.to_frame()\n",
    "b=(df_evl_loaded.sort_index()/df_evl1.sort_index()).mean(axis=1)\n",
    "a[1] = b\n",
    "a.columns = ['two prediction', 'load/train']"
   ]
  },
  {
   "cell_type": "code",
   "execution_count": 17,
   "metadata": {
    "collapsed": false,
    "scrolled": true
   },
   "outputs": [
    {
     "data": {
      "text/html": [
       "<div>\n",
       "<style>\n",
       "    .dataframe thead tr:only-child th {\n",
       "        text-align: right;\n",
       "    }\n",
       "\n",
       "    .dataframe thead th {\n",
       "        text-align: left;\n",
       "    }\n",
       "\n",
       "    .dataframe tbody tr th {\n",
       "        vertical-align: top;\n",
       "    }\n",
       "</style>\n",
       "<table border=\"1\" class=\"dataframe\">\n",
       "  <thead>\n",
       "    <tr style=\"text-align: right;\">\n",
       "      <th></th>\n",
       "      <th></th>\n",
       "      <th>two prediction</th>\n",
       "      <th>load/train</th>\n",
       "    </tr>\n",
       "  </thead>\n",
       "  <tbody>\n",
       "    <tr>\n",
       "      <th rowspan=\"3\" valign=\"top\">cls</th>\n",
       "      <th>RFcls</th>\n",
       "      <td>0.828571</td>\n",
       "      <td>1.000000</td>\n",
       "    </tr>\n",
       "    <tr>\n",
       "      <th>BAGcls</th>\n",
       "      <td>0.914418</td>\n",
       "      <td>1.186084</td>\n",
       "    </tr>\n",
       "    <tr>\n",
       "      <th>DTcls</th>\n",
       "      <td>0.948771</td>\n",
       "      <td>0.999082</td>\n",
       "    </tr>\n",
       "    <tr>\n",
       "      <th rowspan=\"3\" valign=\"top\">reg</th>\n",
       "      <th>BAGreg</th>\n",
       "      <td>0.966015</td>\n",
       "      <td>1.040742</td>\n",
       "    </tr>\n",
       "    <tr>\n",
       "      <th>GDBreg</th>\n",
       "      <td>0.968744</td>\n",
       "      <td>1.048633</td>\n",
       "    </tr>\n",
       "    <tr>\n",
       "      <th>linearSVR</th>\n",
       "      <td>0.999144</td>\n",
       "      <td>1.000669</td>\n",
       "    </tr>\n",
       "    <tr>\n",
       "      <th>cls</th>\n",
       "      <th>ADAcls</th>\n",
       "      <td>1.000000</td>\n",
       "      <td>1.000000</td>\n",
       "    </tr>\n",
       "    <tr>\n",
       "      <th rowspan=\"4\" valign=\"top\">reg</th>\n",
       "      <th>lasso</th>\n",
       "      <td>1.000000</td>\n",
       "      <td>1.000000</td>\n",
       "    </tr>\n",
       "    <tr>\n",
       "      <th>SVR</th>\n",
       "      <td>1.000000</td>\n",
       "      <td>1.000000</td>\n",
       "    </tr>\n",
       "    <tr>\n",
       "      <th>DTreg</th>\n",
       "      <td>1.000000</td>\n",
       "      <td>1.000000</td>\n",
       "    </tr>\n",
       "    <tr>\n",
       "      <th>ridge</th>\n",
       "      <td>1.000000</td>\n",
       "      <td>1.000000</td>\n",
       "    </tr>\n",
       "    <tr>\n",
       "      <th rowspan=\"4\" valign=\"top\">cls</th>\n",
       "      <th>logistics</th>\n",
       "      <td>1.000000</td>\n",
       "      <td>1.000000</td>\n",
       "    </tr>\n",
       "    <tr>\n",
       "      <th>SVM</th>\n",
       "      <td>1.000000</td>\n",
       "      <td>1.000000</td>\n",
       "    </tr>\n",
       "    <tr>\n",
       "      <th>GNBcls</th>\n",
       "      <td>1.000000</td>\n",
       "      <td>1.000000</td>\n",
       "    </tr>\n",
       "    <tr>\n",
       "      <th>GDBcls</th>\n",
       "      <td>1.000000</td>\n",
       "      <td>1.000000</td>\n",
       "    </tr>\n",
       "    <tr>\n",
       "      <th rowspan=\"3\" valign=\"top\">reg</th>\n",
       "      <th>ols</th>\n",
       "      <td>1.000000</td>\n",
       "      <td>1.000000</td>\n",
       "    </tr>\n",
       "    <tr>\n",
       "      <th>MLPreg</th>\n",
       "      <td>1.004002</td>\n",
       "      <td>0.992762</td>\n",
       "    </tr>\n",
       "    <tr>\n",
       "      <th>ADAreg</th>\n",
       "      <td>1.030979</td>\n",
       "      <td>0.965157</td>\n",
       "    </tr>\n",
       "    <tr>\n",
       "      <th>cls</th>\n",
       "      <th>MLPcls</th>\n",
       "      <td>1.052712</td>\n",
       "      <td>0.961202</td>\n",
       "    </tr>\n",
       "    <tr>\n",
       "      <th>reg</th>\n",
       "      <th>RFreg</th>\n",
       "      <td>1.065469</td>\n",
       "      <td>1.047352</td>\n",
       "    </tr>\n",
       "    <tr>\n",
       "      <th>cls</th>\n",
       "      <th>linearSVM</th>\n",
       "      <td>1.497352</td>\n",
       "      <td>1.135433</td>\n",
       "    </tr>\n",
       "  </tbody>\n",
       "</table>\n",
       "</div>"
      ],
      "text/plain": [
       "               two prediction  load/train\n",
       "cls RFcls            0.828571    1.000000\n",
       "    BAGcls           0.914418    1.186084\n",
       "    DTcls            0.948771    0.999082\n",
       "reg BAGreg           0.966015    1.040742\n",
       "    GDBreg           0.968744    1.048633\n",
       "    linearSVR        0.999144    1.000669\n",
       "cls ADAcls           1.000000    1.000000\n",
       "reg lasso            1.000000    1.000000\n",
       "    SVR              1.000000    1.000000\n",
       "    DTreg            1.000000    1.000000\n",
       "    ridge            1.000000    1.000000\n",
       "cls logistics        1.000000    1.000000\n",
       "    SVM              1.000000    1.000000\n",
       "    GNBcls           1.000000    1.000000\n",
       "    GDBcls           1.000000    1.000000\n",
       "reg ols              1.000000    1.000000\n",
       "    MLPreg           1.004002    0.992762\n",
       "    ADAreg           1.030979    0.965157\n",
       "cls MLPcls           1.052712    0.961202\n",
       "reg RFreg            1.065469    1.047352\n",
       "cls linearSVM        1.497352    1.135433"
      ]
     },
     "execution_count": 17,
     "metadata": {},
     "output_type": "execute_result"
    }
   ],
   "source": [
    "a.sort_values('two prediction')"
   ]
  },
  {
   "cell_type": "markdown",
   "metadata": {},
   "source": [
    "# Vis result"
   ]
  },
  {
   "cell_type": "code",
   "execution_count": 12,
   "metadata": {
    "collapsed": false
   },
   "outputs": [
    {
     "data": {
      "text/plain": [
       "<matplotlib.axes._subplots.AxesSubplot at 0xe29b550>"
      ]
     },
     "execution_count": 12,
     "metadata": {},
     "output_type": "execute_result"
    },
    {
     "data": {
      "image/png": "[encoded data removed]",
      "text/plain": [
       "<matplotlib.figure.Figure at 0xe1b97b8>"
      ]
     },
     "metadata": {},
     "output_type": "display_data"
    }
   ],
   "source": [
    "vis_evaluation('data/cross_validation/', 5)"
   ]
  },
  {
   "cell_type": "code",
   "execution_count": 11,
   "metadata": {
    "collapsed": false
   },
   "outputs": [
    {
     "data": {
      "text/plain": [
       "<matplotlib.axes._subplots.AxesSubplot at 0xe210cf8>"
      ]
     },
     "execution_count": 11,
     "metadata": {},
     "output_type": "execute_result"
    },
    {
     "data": {
      "image/png": "[encoded data removed]",
      "text/plain": [
       "<matplotlib.figure.Figure at 0xe1fb6a0>"
      ]
     },
     "metadata": {},
     "output_type": "display_data"
    }
   ],
   "source": [
    "vis_grid_cv_one_model('data/cross_validation/cv_5_model_ADAcls.csv')"
   ]
  },
  {
   "cell_type": "code",
   "execution_count": null,
   "metadata": {
    "collapsed": true
   },
   "outputs": [],
   "source": []
  }
 ],
 "metadata": {
  "anaconda-cloud": {},
  "kernelspec": {
   "display_name": "Python [default]",
   "language": "python",
   "name": "python2"
  },
  "language_info": {
   "codemirror_mode": {
    "name": "ipython",
    "version": 2
   },
   "file_extension": ".py",
   "mimetype": "text/x-python",
   "name": "python",
   "nbconvert_exporter": "python",
   "pygments_lexer": "ipython2",
   "version": "2.7.13"
  }
 },
 "nbformat": 4,
 "nbformat_minor": 2
}
